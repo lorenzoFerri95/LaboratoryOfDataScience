{
 "cells": [
  {
   "cell_type": "markdown",
   "metadata": {},
   "source": [
    "## Slides_03_PythonRecap"
   ]
  },
  {
   "cell_type": "code",
   "execution_count": 1,
   "metadata": {},
   "outputs": [
    {
     "name": "stdout",
     "output_type": "stream",
     "text": [
      "6\n"
     ]
    }
   ],
   "source": [
    "# algoritmo per il calcolo del sottoinsieme a somma massima di una lista\n",
    "# (confrontando tutti i possibili sottoinsiemi di qualsiasi lunghezza)\n",
    "\n",
    "# algoritmo meno efficiente\n",
    "\n",
    "a = [-2, 1, -3, 4, -1, 2, 1, -5, 4]\n",
    "\n",
    "m = 0\n",
    "for i in range(len(a)):\n",
    "    s = 0\n",
    "    for j in range(i, len(a)):\n",
    "        s += a[j]\n",
    "        if s > m:\n",
    "            m = s\n",
    "print(m)"
   ]
  },
  {
   "cell_type": "code",
   "execution_count": 2,
   "metadata": {},
   "outputs": [
    {
     "name": "stdout",
     "output_type": "stream",
     "text": [
      "6\n"
     ]
    }
   ],
   "source": [
    "#  stesso algoritmo di prima ma più efficiente (costo lineare)\n",
    "\n",
    "a = [-2, 1, -3, 4, -1, 2, 1, -5, 4]\n",
    "\n",
    "m = 0\n",
    "current = 0\n",
    "for i in a:\n",
    "    current = max(0, current+i)\n",
    "    m = max(m, current)\n",
    "print(m)"
   ]
  },
  {
   "cell_type": "code",
   "execution_count": 4,
   "metadata": {},
   "outputs": [
    {
     "name": "stdout",
     "output_type": "stream",
     "text": [
      "apple, tomato, meat, strawberry, \n",
      "{'apple': 3, 'orange': -4, 'tomato': -5, 'meat': 6, 'potato': 12, 'strawberry': 9}\n"
     ]
    }
   ],
   "source": [
    "# esercizio dictionary\n",
    "\n",
    "l = [12, 3, -4, 6, -5, 9]\n",
    "\n",
    "d = {'apple':3, 'orange':4, 'tomato':-5, 'meat':6, 'potato':15, 'strawberry':9}\n",
    "\n",
    "to_buy = ''\n",
    "for key, value in d.items():\n",
    "    if value in l:\n",
    "        to_buy += key + ', '\n",
    "    else:\n",
    "        for new in l:\n",
    "            if new not in d.values():\n",
    "                d[key] = new\n",
    "print(to_buy)\n",
    "print(d)"
   ]
  },
  {
   "cell_type": "code",
   "execution_count": 6,
   "metadata": {},
   "outputs": [
    {
     "name": "stdout",
     "output_type": "stream",
     "text": [
      "0.9538799973570486\n"
     ]
    }
   ],
   "source": [
    "# correlazione di Pearson\n",
    "\n",
    "from math import sqrt\n",
    "\n",
    "a = [12, 3, 4, 6, 5, 9]\n",
    "b = [10, 3, 2, 6, 3, 7]\n",
    "\n",
    "a_mean = sum(a)/len(a)\n",
    "b_mean = sum(b)/len(b)\n",
    "\n",
    "covariance = 0\n",
    "std_dev_a = 0\n",
    "std_dev_b = 0\n",
    "\n",
    "for i in range(len(a)):\n",
    "    covariance += (a[i] - a_mean) * (b[i] - b_mean)\n",
    "    \n",
    "    std_dev_a += (a[i] - a_mean)**2\n",
    "    std_dev_b += (b[i] - b_mean)**2\n",
    "\n",
    "    \n",
    "std_dev_a = sqrt(std_dev_a)    \n",
    "std_dev_b = sqrt(std_dev_b)\n",
    "\n",
    "correlation = covariance / ( std_dev_a * std_dev_b )\n",
    "print(correlation)"
   ]
  },
  {
   "cell_type": "code",
   "execution_count": 10,
   "metadata": {},
   "outputs": [
    {
     "data": {
      "text/plain": [
       "0.9538799973570488"
      ]
     },
     "execution_count": 10,
     "metadata": {},
     "output_type": "execute_result"
    }
   ],
   "source": [
    "from numpy import corrcoef\n",
    "corrcoef(a, b)[0][1]"
   ]
  },
  {
   "cell_type": "markdown",
   "metadata": {},
   "source": [
    "## Slides_04_PythonFileAccess"
   ]
  },
  {
   "cell_type": "code",
   "execution_count": null,
   "metadata": {},
   "outputs": [],
   "source": []
  }
 ],
 "metadata": {
  "kernelspec": {
   "display_name": "Python 3",
   "language": "python",
   "name": "python3"
  },
  "language_info": {
   "codemirror_mode": {
    "name": "ipython",
    "version": 3
   },
   "file_extension": ".py",
   "mimetype": "text/x-python",
   "name": "python",
   "nbconvert_exporter": "python",
   "pygments_lexer": "ipython3",
   "version": "3.7.6"
  }
 },
 "nbformat": 4,
 "nbformat_minor": 4
}
