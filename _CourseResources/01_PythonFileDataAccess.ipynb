{
 "cells": [
  {
   "cell_type": "markdown",
   "metadata": {},
   "source": [
    "## Slides_03_PythonRecap"
   ]
  },
  {
   "cell_type": "code",
   "execution_count": 1,
   "metadata": {},
   "outputs": [
    {
     "name": "stdout",
     "output_type": "stream",
     "text": [
      "6\n"
     ]
    }
   ],
   "source": [
    "# algoritmo per il calcolo del sottoinsieme a somma massima di una lista\n",
    "# (confrontando tutti i possibili sottoinsiemi di qualsiasi lunghezza)\n",
    "\n",
    "# algoritmo meno efficiente\n",
    "\n",
    "a = [-2, 1, -3, 4, -1, 2, 1, -5, 4]\n",
    "\n",
    "m = 0\n",
    "for i in range(len(a)):\n",
    "    s = 0\n",
    "    for j in range(i, len(a)):\n",
    "        s += a[j]\n",
    "        if s > m:\n",
    "            m = s\n",
    "print(m)"
   ]
  },
  {
   "cell_type": "code",
   "execution_count": 2,
   "metadata": {},
   "outputs": [
    {
     "name": "stdout",
     "output_type": "stream",
     "text": [
      "6\n"
     ]
    }
   ],
   "source": [
    "#  stesso algoritmo di prima ma più efficiente (costo lineare)\n",
    "\n",
    "a = [-2, 1, -3, 4, -1, 2, 1, -5, 4]\n",
    "\n",
    "m = 0\n",
    "current = 0\n",
    "for i in a:\n",
    "    current = max(0, current+i)\n",
    "    m = max(m, current)\n",
    "print(m)"
   ]
  },
  {
   "cell_type": "code",
   "execution_count": 4,
   "metadata": {},
   "outputs": [
    {
     "name": "stdout",
     "output_type": "stream",
     "text": [
      "apple, tomato, meat, strawberry, \n",
      "{'apple': 3, 'orange': -4, 'tomato': -5, 'meat': 6, 'potato': 12, 'strawberry': 9}\n"
     ]
    }
   ],
   "source": [
    "# esercizio dictionary\n",
    "\n",
    "l = [12, 3, -4, 6, -5, 9]\n",
    "\n",
    "d = {'apple':3, 'orange':4, 'tomato':-5, 'meat':6, 'potato':15, 'strawberry':9}\n",
    "\n",
    "to_buy = ''\n",
    "for key, value in d.items():\n",
    "    if value in l:\n",
    "        to_buy += key + ', '\n",
    "    else:\n",
    "        for new in l:\n",
    "            if new not in d.values():\n",
    "                d[key] = new\n",
    "print(to_buy)\n",
    "print(d)"
   ]
  },
  {
   "cell_type": "code",
   "execution_count": 6,
   "metadata": {},
   "outputs": [
    {
     "name": "stdout",
     "output_type": "stream",
     "text": [
      "0.9538799973570486\n"
     ]
    }
   ],
   "source": [
    "# correlazione di Pearson\n",
    "\n",
    "from math import sqrt\n",
    "\n",
    "a = [12, 3, 4, 6, 5, 9]\n",
    "b = [10, 3, 2, 6, 3, 7]\n",
    "\n",
    "a_mean = sum(a)/len(a)\n",
    "b_mean = sum(b)/len(b)\n",
    "\n",
    "covariance = 0\n",
    "std_dev_a = 0\n",
    "std_dev_b = 0\n",
    "\n",
    "for i in range(len(a)):\n",
    "    covariance += (a[i] - a_mean) * (b[i] - b_mean)\n",
    "    \n",
    "    std_dev_a += (a[i] - a_mean)**2\n",
    "    std_dev_b += (b[i] - b_mean)**2\n",
    "\n",
    "    \n",
    "std_dev_a = sqrt(std_dev_a)    \n",
    "std_dev_b = sqrt(std_dev_b)\n",
    "\n",
    "correlation = covariance / ( std_dev_a * std_dev_b )\n",
    "print(correlation)"
   ]
  },
  {
   "cell_type": "code",
   "execution_count": 10,
   "metadata": {},
   "outputs": [
    {
     "data": {
      "text/plain": [
       "0.9538799973570488"
      ]
     },
     "execution_count": 10,
     "metadata": {},
     "output_type": "execute_result"
    }
   ],
   "source": [
    "from numpy import corrcoef\n",
    "corrcoef(a, b)[0][1]"
   ]
  },
  {
   "cell_type": "markdown",
   "metadata": {},
   "source": [
    "## Slides_04_PythonFileAccess"
   ]
  },
  {
   "cell_type": "markdown",
   "metadata": {},
   "source": [
    "#### - trasformare un file  CSV  in un file  ARFF"
   ]
  },
  {
   "cell_type": "markdown",
   "metadata": {},
   "source": [
    "i file CSV possono avere o no l'Header con i Meta-Data. quindi creiamo due categorie di funzioni diverse: una che funziona quando il file CSV non ha l'Header (funzioni con nome senza  h  in fondo), e l'altra che funziona quando ce l'ha  (funzioni con nome con  h  in fondo, es.  csv2arff_h).\n",
    "\n",
    "commentiamo solo il caso con Header, è facile poi fare le stesse considerazione per il file senza Header."
   ]
  },
  {
   "cell_type": "code",
   "execution_count": 1,
   "metadata": {},
   "outputs": [],
   "source": [
    "import sys\n",
    "import getopt  # vediamo questa alla fine\n",
    "import csv   # libreria che permette di lavorare con i file csv in python"
   ]
  },
  {
   "cell_type": "code",
   "execution_count": 2,
   "metadata": {},
   "outputs": [],
   "source": [
    "def is_number(s):\n",
    "    \"\"\" funzione per verificare se l'argomento è un numero o no \"\"\"\n",
    "    try:\n",
    "        float(s)\n",
    "        return True\n",
    "    except ValueError:\n",
    "        return False"
   ]
  },
  {
   "cell_type": "code",
   "execution_count": null,
   "metadata": {},
   "outputs": [],
   "source": [
    "def getType_h(ifile, MAX_ENUMERATED = 3):\n",
    "    \"\"\" si ottiene il data type di ciascuna colonna in un file csv con header.\n",
    "    MAX_ENUMERATED  è il numero di valori distinti sopra il quale il data type non è più categorico \"\"\"\n",
    "    \n",
    "    fileIn = open(ifile, 'r')  # aprire il file csv in sola lettura\n",
    "\n",
    "    attrs = fileIn.readline().split(',')   # creare una lista con i nomi di tutti gli attributi della tabella nel CSV\n",
    "    nattrs = len(attrs)  # numero di attributi\n",
    "    \n",
    "    # lista con un numero di  True  pari al numero di attributi, che riempiremo poi con True o False in base a che\n",
    "    # l'attributo corrispondente sia un attributo numerico (True) o no (False).\n",
    "    atype = [True] *  nattrs\n",
    "    \n",
    "    # inizializziamo una lista che riempiamo con un numero di  Set  pari al numero di attributi\n",
    "    # in questi Set ci andranno i valori di ogni attributo, ed essendo un Set manterrà solo i valori distinti.\n",
    "    # questo quindi ci servirà per determinare se il numero di valori distinti dell'attributo supera il valore di MAX_ENUMERATED\n",
    "    distinctValues = []\n",
    "    for k in range(nattrs):\n",
    "        distinctValues.append(set())\n",
    "    \n",
    "    #get types analyzing the others lines\n",
    "    lines = csv.reader(fileIn, delimiter = ',')\n",
    "    for row in lines:  # itero su ogni riga\n",
    "        for k in range(nattrs):  # itero su ogni colonna, quindi su ogni cella della riga corrente\n",
    "            if row[k] == '?':   # se il valore in quella cella è nullo passo avanti\n",
    "                pass\n",
    "            else:\n",
    "                # modifichiamo il valore della lista  atype  mantenendo True se l'attributo è numerico e False se non lo è.\n",
    "                # per fare ciò si verifica se nella cella corrente c'è un valore che non è numerico, se è così\n",
    "                # il valore nella lista riferito all'attributo corrispondente diventa False.\n",
    "                atype[k] = atype[k] & is_number(row[k])\n",
    "                if len(distinctValues[k]) <= MAX_ENUMERATED:\n",
    "                    # aggiungiamo il valore della cella corrente al Set di valori distinti nella lista   distinctValues,\n",
    "                    # solo finché il numero di valori distinti già presenti nel Set è uguale al parametro MAX_ENUMERATED.\n",
    "                    # questo perché una volta che il nuero di valori distinti diventa pari al parametro MAX_ENUMERATED\n",
    "                    # sappiamo già che quell'attributo non è categorico perché ha superato il threshold fissato\n",
    "                    # (andare avanti inserendo altri valori distinti quindi diventa inutile e costoso).\n",
    "                    distinctValues[k].add(row[k])\n",
    "    \n",
    "    fileIn.close\n",
    "    \n",
    "    \n",
    "    # infine riempiamo una lista con i data type di ogni colonna in ordine\n",
    "    finalTypes = []\n",
    "    \n",
    "    for k in range(nattrs):\n",
    "        # caso in cui i valori distinti dell'attributo sono maggiori del threshold fissato\n",
    "        if len(distinctValues[k]) > MAX_ENUMERATED:\n",
    "            if atype[k] == True:\n",
    "                finalTypes.append('numeric') # se in  atype  in corrispondenza di k abbiamo True l'attributo è numerico \n",
    "            else: \n",
    "                finalTypes.append('string') # se in  atype  in corrispondenza di k abbiamo False l'attributo è una stringa\n",
    "        \n",
    "        # caso in cui i valori distinti dell'attributo sono minori del threshold fissato, il Data Type è  Enumerated\n",
    "        # dobbiamo creare un Set con tutti i valori distinti che ciascun attributo può assumere,\n",
    "        # perché il Data Type Enumerate deve essere seguito dai possibili valori categorici.\n",
    "        else:\n",
    "            res = \"{\"\n",
    "            first = True\n",
    "            for s in distinctValues[k]:\n",
    "                if first:\n",
    "                    first = False\n",
    "                else:\n",
    "                    res += \",\"\n",
    "                res += s\n",
    "            res += \"}\"  \n",
    "            finalTypes.append(res)\n",
    "    return attrs, finalTypes\n",
    "\n",
    "\n",
    "# stessa cosa di questo sopra ma per file senza header\n",
    "def getType(ifile,MAX_ENUMERATED = 3):\n",
    "    \n",
    "    fileIn = open(ifile)\n",
    "    \n",
    "    lines = csv.reader(fileIn, delimiter = ',')\n",
    "    \n",
    "    distinctValues = []\n",
    "    atype = []\n",
    "    nattrs = 0\n",
    "    first_line = True\n",
    "    \n",
    "    for row in lines:\n",
    "        if first_line:\n",
    "            #Initialize data structures \n",
    "            nattrs = len(row)\n",
    "            atype = [True] *  nattrs\n",
    "            for k in range(nattrs):\n",
    "                distinctValues.append(set())\n",
    "            first_line = False\n",
    "            \n",
    "        for k in range(nattrs):\n",
    "            if row[k] == '?':\n",
    "                pass\n",
    "            else:\n",
    "                atype[k] = atype[k] & is_number(row[k])\n",
    "                if len(distinctValues[k]) <= MAX_ENUMERATED:\n",
    "                    distinctValues[k].add(row[k])\n",
    "    fileIn.close   \n",
    "    \n",
    "    finalTypes = []\n",
    "    for k in range(nattrs):\n",
    "        if len(distinctValues[k]) > MAX_ENUMERATED:\n",
    "            if atype[k] == True:\n",
    "                finalTypes.append('numeric')\n",
    "            else: \n",
    "                finalTypes.append('string')\n",
    "        else:\n",
    "            #enumerated - construct string\n",
    "            res = \"{\"\n",
    "            first = True\n",
    "            for s in distinctValues[k]:\n",
    "                if first:\n",
    "                    first = False\n",
    "                else:\n",
    "                    res += \",\"\n",
    "                res += s\n",
    "            res += \"}\"  \n",
    "            finalTypes.append(res)     \n",
    "    return finalTypes"
   ]
  },
  {
   "cell_type": "code",
   "execution_count": null,
   "metadata": {},
   "outputs": [],
   "source": [
    "def csv2arff_h(ifile, ofile):\n",
    "    \n",
    "    fileOut = open(ofile,\"w\")  # si crea il nuovo file di output aprendo un file, che non esiste già, con diritto di scrittura.\n",
    "    fileOut.write(\"@RELATION \"+ofile+\"\\n\")  # il nome della relazione è semplicemente il nome del file.\n",
    "   \n",
    "    # dal file di input otteniamo il nome ed il Data Type degli attributi mediante la funzione dichiarata sopra.\n",
    "    attrs, attTypes = getType_h(ifile, MAX_ENUMERATED = 2)\n",
    "    \n",
    "    # i Meta-Data vengono scritti all'inizio del nuovo file arff:   @ATTRIBUTE nome_attributo data_type_attributo\n",
    "    for k in range(len(attTypes)):   \n",
    "        fileOut.write(\"@ATTRIBUTE \"+ attrs[k]+\" \"+ attTypes[k] +\"\\n\")\n",
    "    \n",
    "    fileOut.write(\"@DATA \\n\");  # quando i Meta-Data sono finiti scriviamo  @DATA per indicare che da li cominciano i dati\n",
    "    \n",
    "    # tutto il resto dei dati possono essere scritti nel file arff leggendo direttamente quelli del file csv\n",
    "    # (in pratica è una copia).  si salta solo la prima riga del file CSV, perché contiene l'Header che abbiamo già processato,\n",
    "    # con  fileIn.readline()\n",
    "    fileIn = open(ifile);\n",
    "    fileIn.readline()\n",
    "    fileOut.writelines(fileIn.readlines())\n",
    "    fileIn.close()\n",
    "    fileOut.close()\n",
    "\n",
    "\n",
    "\n",
    "def csv2arff(ifile, ofile):    \n",
    "    fileOut = open(ofile,\"w\")\n",
    "    fileOut.write(\"@RELATION \"+ofile+\"\\n\")\n",
    "    #get types of attributes\n",
    "    attTypes = getType(ifile, MAX_ENUMERATED = 2)\n",
    "    #write metadata\n",
    "    for k in range(len(attTypes)):   \n",
    "        fileOut.write(\"@ATTRIBUTE column-\"+ str(k) +\" \"+ attTypes[k] +\"\\n\")\n",
    "    #write data\n",
    "    fileOut.write(\"@DATA \\n\");\n",
    "    fileIn = open(ifile);\n",
    "    fileOut.writelines(fileIn.readlines())\n",
    "    fileIn.close()\n",
    "    fileOut.close()"
   ]
  },
  {
   "cell_type": "code",
   "execution_count": null,
   "metadata": {},
   "outputs": [],
   "source": [
    "'''----------------------- MAIN PROGRAM -----------------------------\n",
    "\n",
    "nel programma principale ci va questo codice.\n",
    "questo permette di inserire manualmente gli argomenti delle funzioni che ci servono nel nostro programma\n",
    "quando runniamo il programma da riga di comando.\n",
    "\n",
    "cioè se runniamo il programma dalla Prompt con il comando:    >> python programma.py\n",
    "possiamo passare anche dei valori dopo questo comando.\n",
    "questi saranno i valori dei parametri che ci servono dentro il programma per le nostre funzioni, in fila,\n",
    "es. in questo caso:     >> python programma.py -i input_file.csv -o output_file.arff -h y/n\n",
    "\n",
    "dopo  -i  abbiamo il nome del file in input\n",
    "dopo  -o  abbiamo il nome del file in output\n",
    "dopo  -h  abbiamo  y  se il file contiene Header o  n  se non lo contiene.\n",
    "\n",
    "il metodo  getopt.getopt  permette di accedere ai valori inseriti come argomenti durante l'esecuzione del programma dalla Prompt\n",
    "dobbiamo specificare che questi valori si trovano in    sys.argv[1:]\n",
    "cioè si trovano nella lista di argomenti passati manualmente nella Prompt dopo il primo\n",
    "(il primo è sempre il nome del programma).\n",
    "inoltre dobbiamo specificare le  opzioni e la presenza eventuale di argomenti:\n",
    "l'opzione è ciò che deve essere scritto nella Prompt (preceduto dal simbolo  - ) per indicare quale opzione stiamo trattando\n",
    "es.  scrivendo  i  la Prompt saprà che stiamo trattando l'opzione  i\n",
    "in più dobbiamo aggiungere il simbolo  :  dopo ogni opzione che richiede successivamente un argomento\n",
    "(che comunque non è obbligatorio)\n",
    "\n",
    "una volta ottenuti i valori degli argomenti inseriti dall'utente che ha runnato il programma tramite Prompt\n",
    "possiamo storare il valore di questi argomenti in variabili che poi verranno usate nel programma.\n",
    "es. il valore  y o n  dell'opzione  -o  viene testato per verificare se il file CSV ha l'Header o no,\n",
    "in modo da usare l'apposita funzione per trasformarlo.\n",
    "l'argomento dopo  -i  viene usato come argomento della funzione per la trasformazione riferito al nome del file da leggere.\n",
    "ecc...\n",
    "'''\n",
    "    \n",
    "# Store input and output file names\n",
    "ifile=''\n",
    "ofile=''\n",
    "# Read command line args\n",
    "myopts, args = getopt.getopt(sys.argv[1:],\"i:o:h:\")\n",
    "###############################\n",
    "# o == option\n",
    "# a == argument passed to the o\n",
    "###############################\n",
    "for o, a in myopts:\n",
    "    if o == '-i':\n",
    "        ifile=a\n",
    "    elif o == '-o':\n",
    "        ofile=a\n",
    "    elif o == '-h':\n",
    "        head=a\n",
    "    else:\n",
    "        print(\"Usage: %s -i input -o output -h y/n\" % sys.argv[0])\n",
    "\n",
    "if head == 'y':\n",
    "    # se nella Prompt abbiamo specificato di voler eseguire questo programma su un file CSV con Header   ( -h y)\n",
    "    # verrà eseguita la funzione apposita che lavora su CSV con Headers\n",
    "    csv2arff_h(ifile,ofile)\n",
    "else:\n",
    "    # altrimenti viene eseguita l'altra funzione.\n",
    "    csv2arff(ifile,ofile)\n"
   ]
  },
  {
   "cell_type": "markdown",
   "metadata": {},
   "source": [
    "#### - trasformare un file  XML ROW Foramt  in un file  CSV"
   ]
  },
  {
   "cell_type": "code",
   "execution_count": 2,
   "metadata": {},
   "outputs": [],
   "source": [
    "import sys, getopt\n",
    "import xml.etree.ElementTree as ET\n",
    "import csv"
   ]
  },
  {
   "cell_type": "code",
   "execution_count": null,
   "metadata": {},
   "outputs": [],
   "source": [
    "def getAttributes(root):\n",
    "    '''funzione per ottenere i nomi di tutti gli attributi presenti nel file XML'''\n",
    "    attNames = set()  # Set che conterrà i nomi degli attributi\n",
    "    \n",
    "    for row in root:  # si itera per ogni Tag  row  presente all'interno del Tag  root\n",
    "        # row.attrib ritorna la Dictionary con le coppie   nome attributo (key): valore attributo (value)\n",
    "        for att in row.attrib.keys():  # si itera per ogni attributo della riga corrente\n",
    "            attNames.add(att)  # si aggiunge il nome dell'attributo al Set\n",
    "    return attNames\n",
    "# cioè l'insieme dei nomi degli attributi viene riempito iterando su ciascun nome di attributo presente nel file XML\n",
    "# e aggiungendo quei nomi al Set in modo da ottenere soltanto i nomi distinti.\n",
    "# si fa questo invece che aggiungere al Set solo i nomi della prima riga del file XML\n",
    "# perché se una row del file XML ha un Missing Value esso non viene riempito con un carattere speciale,\n",
    "# come avviene in altri formati di file, ma quell'attributo mancherà in quella row.\n",
    "# quindi per ottenere tutti i possibili attributi dobbiamo fare uno scan di tutte le row del file XML."
   ]
  },
  {
   "cell_type": "code",
   "execution_count": null,
   "metadata": {},
   "outputs": [],
   "source": [
    "# 56:00"
   ]
  },
  {
   "cell_type": "markdown",
   "metadata": {},
   "source": [
    "#### - trasformare un file  JSON  in un file  CSV"
   ]
  },
  {
   "cell_type": "code",
   "execution_count": null,
   "metadata": {},
   "outputs": [],
   "source": []
  }
 ],
 "metadata": {
  "kernelspec": {
   "display_name": "Python 3",
   "language": "python",
   "name": "python3"
  },
  "language_info": {
   "codemirror_mode": {
    "name": "ipython",
    "version": 3
   },
   "file_extension": ".py",
   "mimetype": "text/x-python",
   "name": "python",
   "nbconvert_exporter": "python",
   "pygments_lexer": "ipython3",
   "version": "3.7.6"
  }
 },
 "nbformat": 4,
 "nbformat_minor": 4
}
